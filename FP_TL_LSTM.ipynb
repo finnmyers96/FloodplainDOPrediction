{
 "cells": [
  {
   "cell_type": "markdown",
   "id": "bdfdc35d",
   "metadata": {},
   "source": [
    "# 480 gages pre-trained LSTM model"
   ]
  },
  {
   "cell_type": "markdown",
   "id": "ac947c5c",
   "metadata": {},
   "source": [
    "### 7/16/2024"
   ]
  },
  {
   "cell_type": "code",
   "execution_count": 1,
   "id": "9f567bba",
   "metadata": {},
   "outputs": [],
   "source": [
    "import numpy as np\n",
    "import pandas as pd\n",
    "import matplotlib.pyplot as plt\n",
    "import tensorflow as tf\n",
    "import os, math, keras, random\n",
    "from keras import layers, metrics\n",
    "from sklearn.preprocessing import MinMaxScaler\n",
    "from sklearn.metrics import mean_squared_error, r2_score\n",
    "from statsmodels.tsa.api import SimpleExpSmoothing\n",
    "from keras.callbacks import EarlyStopping\n",
    "from datetime import datetime\n",
    "import hydroeval as he\n",
    "from sklearn.metrics import mean_squared_error, mean_absolute_error"
   ]
  },
  {
   "cell_type": "code",
   "execution_count": 2,
   "id": "5c494a43-741b-4a8f-9a0a-913bc299f46a",
   "metadata": {},
   "outputs": [
    {
     "name": "stdout",
     "output_type": "stream",
     "text": [
      "Num GPUs Available:  0\n"
     ]
    }
   ],
   "source": [
    "print(\"Num GPUs Available: \", len(tf.config.experimental.list_physical_devices('GPU')))"
   ]
  },
  {
   "cell_type": "code",
   "execution_count": 3,
   "id": "68e348c9",
   "metadata": {},
   "outputs": [],
   "source": [
    "proj_dir = os.getcwd()\n",
    "os.chdir(proj_dir)"
   ]
  },
  {
   "cell_type": "markdown",
   "id": "f3fae5d8",
   "metadata": {},
   "source": [
    "### Read in site data"
   ]
  },
  {
   "cell_type": "code",
   "execution_count": 4,
   "id": "6b8eef3f",
   "metadata": {},
   "outputs": [],
   "source": [
    "OC2 = pd.read_csv(proj_dir + r\"/data/OC2.csv\", index_col=[0])\n",
    "OC2.index = pd.to_datetime(OC2.index).date\n",
    "LF1 = pd.read_csv(proj_dir + r\"/data/LF1.csv\", index_col=[0])\n",
    "LF1.index = pd.to_datetime(LF1.index).date\n",
    "LF2 = pd.read_csv(proj_dir + r\"/data/LF2.csv\", index_col=[0])\n",
    "LF2.index = pd.to_datetime(LF2.index).date\n",
    "OC4 = pd.read_csv(proj_dir + r\"/data/OC4.csv\", index_col=[0])\n",
    "OC4.index = pd.to_datetime(OC4.index).date\n",
    "LF3 = pd.read_csv(proj_dir + r\"/data/LF3.csv\", index_col=[0])\n",
    "LF3.index = pd.to_datetime(LF3.index).date\n",
    "OC1 = pd.read_csv(proj_dir + r\"/data/OC1.csv\", index_col=[0])\n",
    "OC1.index = pd.to_datetime(OC1.index).date\n",
    "OC3 = pd.read_csv(proj_dir + r\"/data/OC3.csv\", index_col=[0])\n",
    "OC3.index = pd.to_datetime(OC3.index).date"
   ]
  },
  {
   "cell_type": "markdown",
   "id": "9e1f4d9b-6383-4a2f-865a-9b39df5517ac",
   "metadata": {},
   "source": [
    "### Create dataframes with no missing DO values"
   ]
  },
  {
   "cell_type": "code",
   "execution_count": 5,
   "id": "ac4512bf-9b5c-4472-8cb8-50afa7b1cae8",
   "metadata": {},
   "outputs": [],
   "source": [
    "OC2_noNA = OC2.dropna(subset=['o'])\n",
    "LF1_noNA = LF1.dropna(subset=['o'])\n",
    "LF2_noNA = LF2.dropna(subset=['o'])\n",
    "OC4_noNA = OC4.dropna(subset=['o'])\n",
    "LF3_noNA = LF3.dropna(subset=['o'])\n",
    "OC1_noNA = OC1.dropna(subset=['o'])\n",
    "OC3_noNA = OC3.dropna(subset=['o'])"
   ]
  },
  {
   "cell_type": "markdown",
   "id": "68b97693-7f4e-4072-882e-102c71e16d5f",
   "metadata": {},
   "source": [
    "### Create list of all site data"
   ]
  },
  {
   "cell_type": "code",
   "execution_count": 6,
   "id": "7bc19b37-bf4c-4f0a-90fe-23267c1482b9",
   "metadata": {},
   "outputs": [],
   "source": [
    "site_dfs_noNA = [OC2_noNA, LF1_noNA, LF2_noNA, OC4_noNA, LF3_noNA, OC1_noNA, OC3_noNA]"
   ]
  },
  {
   "cell_type": "markdown",
   "id": "71992949",
   "metadata": {},
   "source": [
    "### Read in data, drop unnecessary variables, scale data, and split into X and y"
   ]
  },
  {
   "cell_type": "code",
   "execution_count": 7,
   "id": "3863f654",
   "metadata": {},
   "outputs": [
    {
     "data": {
      "text/html": [
       "<div>\n",
       "<style scoped>\n",
       "    .dataframe tbody tr th:only-of-type {\n",
       "        vertical-align: middle;\n",
       "    }\n",
       "\n",
       "    .dataframe tbody tr th {\n",
       "        vertical-align: top;\n",
       "    }\n",
       "\n",
       "    .dataframe thead th {\n",
       "        text-align: right;\n",
       "    }\n",
       "</style>\n",
       "<table border=\"1\" class=\"dataframe\">\n",
       "  <thead>\n",
       "    <tr style=\"text-align: right;\">\n",
       "      <th></th>\n",
       "      <th>temp</th>\n",
       "      <th>q</th>\n",
       "      <th>o</th>\n",
       "      <th>lat</th>\n",
       "      <th>lon</th>\n",
       "      <th>STAID</th>\n",
       "      <th>BFI</th>\n",
       "      <th>PET</th>\n",
       "      <th>CONTACT</th>\n",
       "      <th>EWT</th>\n",
       "      <th>...</th>\n",
       "      <th>NORM_STORAGE2013</th>\n",
       "      <th>MAJOR2013</th>\n",
       "      <th>HDENS10</th>\n",
       "      <th>dayl (s)</th>\n",
       "      <th>prcp (mm/day)</th>\n",
       "      <th>srad (W/m2)</th>\n",
       "      <th>swe (kg/m2)</th>\n",
       "      <th>tmax (degrees C)</th>\n",
       "      <th>tmin (degrees C)</th>\n",
       "      <th>vp (Pa)</th>\n",
       "    </tr>\n",
       "  </thead>\n",
       "  <tbody>\n",
       "    <tr>\n",
       "      <th>2014-05-02</th>\n",
       "      <td>7.6</td>\n",
       "      <td>73.8</td>\n",
       "      <td>10.0</td>\n",
       "      <td>39.104997</td>\n",
       "      <td>-111.228992</td>\n",
       "      <td>9326500</td>\n",
       "      <td>61.81</td>\n",
       "      <td>457.51</td>\n",
       "      <td>64.31</td>\n",
       "      <td>-47.98</td>\n",
       "      <td>...</td>\n",
       "      <td>2083.0</td>\n",
       "      <td>0.0</td>\n",
       "      <td>0.05</td>\n",
       "      <td>49339.691406</td>\n",
       "      <td>0.0</td>\n",
       "      <td>534.349976</td>\n",
       "      <td>0.0</td>\n",
       "      <td>18.030001</td>\n",
       "      <td>1.40</td>\n",
       "      <td>567.789978</td>\n",
       "    </tr>\n",
       "    <tr>\n",
       "      <th>2014-05-03</th>\n",
       "      <td>7.9</td>\n",
       "      <td>106.0</td>\n",
       "      <td>9.9</td>\n",
       "      <td>39.104997</td>\n",
       "      <td>-111.228992</td>\n",
       "      <td>9326500</td>\n",
       "      <td>61.81</td>\n",
       "      <td>457.51</td>\n",
       "      <td>64.31</td>\n",
       "      <td>-47.98</td>\n",
       "      <td>...</td>\n",
       "      <td>2083.0</td>\n",
       "      <td>0.0</td>\n",
       "      <td>0.05</td>\n",
       "      <td>49471.230469</td>\n",
       "      <td>0.0</td>\n",
       "      <td>525.289978</td>\n",
       "      <td>0.0</td>\n",
       "      <td>20.920000</td>\n",
       "      <td>4.51</td>\n",
       "      <td>694.919983</td>\n",
       "    </tr>\n",
       "    <tr>\n",
       "      <th>2014-05-04</th>\n",
       "      <td>7.6</td>\n",
       "      <td>150.0</td>\n",
       "      <td>9.9</td>\n",
       "      <td>39.104997</td>\n",
       "      <td>-111.228992</td>\n",
       "      <td>9326500</td>\n",
       "      <td>61.81</td>\n",
       "      <td>457.51</td>\n",
       "      <td>64.31</td>\n",
       "      <td>-47.98</td>\n",
       "      <td>...</td>\n",
       "      <td>2083.0</td>\n",
       "      <td>0.0</td>\n",
       "      <td>0.05</td>\n",
       "      <td>49601.308594</td>\n",
       "      <td>0.0</td>\n",
       "      <td>443.140015</td>\n",
       "      <td>0.0</td>\n",
       "      <td>19.740000</td>\n",
       "      <td>7.51</td>\n",
       "      <td>929.309998</td>\n",
       "    </tr>\n",
       "    <tr>\n",
       "      <th>2014-05-05</th>\n",
       "      <td>6.6</td>\n",
       "      <td>203.0</td>\n",
       "      <td>10.2</td>\n",
       "      <td>39.104997</td>\n",
       "      <td>-111.228992</td>\n",
       "      <td>9326500</td>\n",
       "      <td>61.81</td>\n",
       "      <td>457.51</td>\n",
       "      <td>64.31</td>\n",
       "      <td>-47.98</td>\n",
       "      <td>...</td>\n",
       "      <td>2083.0</td>\n",
       "      <td>0.0</td>\n",
       "      <td>0.05</td>\n",
       "      <td>49729.878906</td>\n",
       "      <td>0.0</td>\n",
       "      <td>416.709991</td>\n",
       "      <td>0.0</td>\n",
       "      <td>18.020000</td>\n",
       "      <td>6.92</td>\n",
       "      <td>921.429993</td>\n",
       "    </tr>\n",
       "    <tr>\n",
       "      <th>2014-05-06</th>\n",
       "      <td>5.7</td>\n",
       "      <td>197.0</td>\n",
       "      <td>10.3</td>\n",
       "      <td>39.104997</td>\n",
       "      <td>-111.228992</td>\n",
       "      <td>9326500</td>\n",
       "      <td>61.81</td>\n",
       "      <td>457.51</td>\n",
       "      <td>64.31</td>\n",
       "      <td>-47.98</td>\n",
       "      <td>...</td>\n",
       "      <td>2083.0</td>\n",
       "      <td>0.0</td>\n",
       "      <td>0.05</td>\n",
       "      <td>49856.890625</td>\n",
       "      <td>0.0</td>\n",
       "      <td>424.690002</td>\n",
       "      <td>0.0</td>\n",
       "      <td>12.610000</td>\n",
       "      <td>1.53</td>\n",
       "      <td>651.440002</td>\n",
       "    </tr>\n",
       "  </tbody>\n",
       "</table>\n",
       "<p>5 rows × 140 columns</p>\n",
       "</div>"
      ],
      "text/plain": [
       "            temp      q     o        lat         lon    STAID    BFI     PET  \\\n",
       "2014-05-02   7.6   73.8  10.0  39.104997 -111.228992  9326500  61.81  457.51   \n",
       "2014-05-03   7.9  106.0   9.9  39.104997 -111.228992  9326500  61.81  457.51   \n",
       "2014-05-04   7.6  150.0   9.9  39.104997 -111.228992  9326500  61.81  457.51   \n",
       "2014-05-05   6.6  203.0  10.2  39.104997 -111.228992  9326500  61.81  457.51   \n",
       "2014-05-06   5.7  197.0  10.3  39.104997 -111.228992  9326500  61.81  457.51   \n",
       "\n",
       "            CONTACT    EWT  ...  NORM_STORAGE2013  MAJOR2013  HDENS10  \\\n",
       "2014-05-02    64.31 -47.98  ...            2083.0        0.0     0.05   \n",
       "2014-05-03    64.31 -47.98  ...            2083.0        0.0     0.05   \n",
       "2014-05-04    64.31 -47.98  ...            2083.0        0.0     0.05   \n",
       "2014-05-05    64.31 -47.98  ...            2083.0        0.0     0.05   \n",
       "2014-05-06    64.31 -47.98  ...            2083.0        0.0     0.05   \n",
       "\n",
       "                dayl (s)  prcp (mm/day)  srad (W/m2)  swe (kg/m2)  \\\n",
       "2014-05-02  49339.691406            0.0   534.349976          0.0   \n",
       "2014-05-03  49471.230469            0.0   525.289978          0.0   \n",
       "2014-05-04  49601.308594            0.0   443.140015          0.0   \n",
       "2014-05-05  49729.878906            0.0   416.709991          0.0   \n",
       "2014-05-06  49856.890625            0.0   424.690002          0.0   \n",
       "\n",
       "            tmax (degrees C)  tmin (degrees C)     vp (Pa)  \n",
       "2014-05-02         18.030001              1.40  567.789978  \n",
       "2014-05-03         20.920000              4.51  694.919983  \n",
       "2014-05-04         19.740000              7.51  929.309998  \n",
       "2014-05-05         18.020000              6.92  921.429993  \n",
       "2014-05-06         12.610000              1.53  651.440002  \n",
       "\n",
       "[5 rows x 140 columns]"
      ]
     },
     "execution_count": 7,
     "metadata": {},
     "output_type": "execute_result"
    }
   ],
   "source": [
    "data = pd.read_csv(proj_dir + r\"/data/river_training_data.csv\", index_col=[0])\n",
    "data.index = pd.to_datetime(data.index).date\n",
    "data.head()"
   ]
  },
  {
   "cell_type": "code",
   "execution_count": 8,
   "id": "a365844b-9759-4efe-a7ac-6c44a45205c3",
   "metadata": {},
   "outputs": [
    {
     "name": "stdout",
     "output_type": "stream",
     "text": [
      "(2254385, 140)\n"
     ]
    }
   ],
   "source": [
    "print(data.shape)"
   ]
  },
  {
   "cell_type": "code",
   "execution_count": 9,
   "id": "594386c5-ce9c-4fea-9465-ca2d5d30cd72",
   "metadata": {},
   "outputs": [
    {
     "name": "stdout",
     "output_type": "stream",
     "text": [
      "(1558230, 140)\n"
     ]
    }
   ],
   "source": [
    "data_noNA = data.dropna(subset=['o'])\n",
    "print(data_noNA.shape)"
   ]
  },
  {
   "cell_type": "markdown",
   "id": "1fe42341-ad2b-4a5e-b72e-3d9b845bba04",
   "metadata": {},
   "source": [
    "### Drop columns based on correlation analysis and random forest feature selection"
   ]
  },
  {
   "cell_type": "code",
   "execution_count": 10,
   "id": "5f45e39b-db3b-4d6a-9796-8ddf78adbc61",
   "metadata": {},
   "outputs": [],
   "source": [
    "with open(proj_dir + '/data/vars_to_keep_FS.txt', \"r\") as file:\n",
    "    vars_to_keep = [line.strip() for line in file]\n",
    "for i, df in enumerate(site_dfs_noNA):\n",
    "    df = df[vars_to_keep]\n",
    "    df = df.sort_index(axis=1)\n",
    "    site_dfs_noNA[i] = df\n",
    "data = data[vars_to_keep]\n",
    "data_noNA = data_noNA[vars_to_keep]\n",
    "master_noNA = pd.concat(site_dfs_noNA)"
   ]
  },
  {
   "cell_type": "markdown",
   "id": "4d87ef47",
   "metadata": {},
   "source": [
    "### Drop sites with less than one year of data"
   ]
  },
  {
   "cell_type": "code",
   "execution_count": 11,
   "id": "ffc93cb6-580c-4071-a103-c9826bc79fb0",
   "metadata": {},
   "outputs": [],
   "source": [
    "river_site_dfs = {}\n",
    "data_noNA['site'] = data_noNA.groupby(['lat', 'lon']).ngroup()\n",
    "sites = data_noNA['site'].unique()\n",
    "for site in sites:\n",
    "    temp_df = data_noNA[data_noNA['site'] == site]\n",
    "    if len(temp_df) >= 365: # only keep sites with a year or more worth of data\n",
    "        temp_df = temp_df.drop('site', axis=1)\n",
    "        river_site_dfs[site] = temp_df\n",
    "    else:\n",
    "        data_noNA = data_noNA[data_noNA['site'] != site]\n",
    "    river_site_dfs[site] = temp_df\n",
    "    \n",
    "data_noNA.drop('site', axis=1, inplace=True)"
   ]
  },
  {
   "cell_type": "code",
   "execution_count": 12,
   "id": "e80168c3-7f31-4c49-9ef9-1bdfd3b27f5c",
   "metadata": {},
   "outputs": [
    {
     "name": "stdout",
     "output_type": "stream",
     "text": [
      "480\n"
     ]
    }
   ],
   "source": [
    "print(len(river_site_dfs))"
   ]
  },
  {
   "cell_type": "markdown",
   "id": "6dae0370",
   "metadata": {},
   "source": [
    "### Reorder columns alphabetically so they are fed into the models in the same place"
   ]
  },
  {
   "cell_type": "code",
   "execution_count": 13,
   "id": "7b4e5eeb",
   "metadata": {},
   "outputs": [
    {
     "name": "stdout",
     "output_type": "stream",
     "text": [
      "ARTIFICIAL  :  ARTIFICIAL\n",
      "BASIN_AREA  :  BASIN_AREA\n",
      "BEDPERM_6  :  BEDPERM_6\n",
      "BFI  :  BFI\n",
      "CNPY11_BUFF100  :  CNPY11_BUFF100\n",
      "CONTACT  :  CONTACT\n",
      "ELEV_MAX  :  ELEV_MAX\n",
      "ELEV_MEAN  :  ELEV_MEAN\n",
      "ELEV_MIN  :  ELEV_MIN\n",
      "FUNGICIDE  :  FUNGICIDE\n",
      "HGAD  :  HGAD\n",
      "HGC  :  HGC\n",
      "LAKEPOND  :  LAKEPOND\n",
      "N97  :  N97\n",
      "NLCD01_52  :  NLCD01_52\n",
      "NLCD01_81  :  NLCD01_81\n",
      "NLCD01_95  :  NLCD01_95\n",
      "RH  :  RH\n",
      "SALINAVE  :  SALINAVE\n",
      "SANDAVE  :  SANDAVE\n",
      "SILTAVE  :  SILTAVE\n",
      "STRM_DENS  :  STRM_DENS\n",
      "WDANN  :  WDANN\n",
      "dayl (s)  :  dayl (s)\n",
      "lat  :  lat\n",
      "lon  :  lon\n",
      "o  :  o\n",
      "prcp (mm/day)  :  prcp (mm/day)\n",
      "q  :  q\n",
      "sinuosity  :  sinuosity\n",
      "srad (W/m2)  :  srad (W/m2)\n",
      "swe (kg/m2)  :  swe (kg/m2)\n",
      "temp  :  temp\n",
      "tmax (degrees C)  :  tmax (degrees C)\n",
      "tmin (degrees C)  :  tmin (degrees C)\n",
      "vp (Pa)  :  vp (Pa)\n"
     ]
    }
   ],
   "source": [
    "# Reorder columns alphabetically\n",
    "master_noNA = master_noNA.sort_index(axis=1)\n",
    "data_noNA = data_noNA.sort_index(axis=1)\n",
    "\n",
    "# Check to make sure columns are in the same order\n",
    "for i, col in enumerate(master_noNA.columns):\n",
    "    print(col, \" : \", list(data_noNA.columns)[i])"
   ]
  },
  {
   "cell_type": "markdown",
   "id": "c54bf4d6-53b7-4547-87df-976f445713c0",
   "metadata": {},
   "source": [
    "## Data preprocessing pipeline"
   ]
  },
  {
   "cell_type": "markdown",
   "id": "d4f4e901",
   "metadata": {},
   "source": [
    "## Scale data"
   ]
  },
  {
   "cell_type": "code",
   "execution_count": 14,
   "id": "c38c7770",
   "metadata": {},
   "outputs": [
    {
     "data": {
      "text/html": [
       "<style>#sk-container-id-1 {color: black;}#sk-container-id-1 pre{padding: 0;}#sk-container-id-1 div.sk-toggleable {background-color: white;}#sk-container-id-1 label.sk-toggleable__label {cursor: pointer;display: block;width: 100%;margin-bottom: 0;padding: 0.3em;box-sizing: border-box;text-align: center;}#sk-container-id-1 label.sk-toggleable__label-arrow:before {content: \"▸\";float: left;margin-right: 0.25em;color: #696969;}#sk-container-id-1 label.sk-toggleable__label-arrow:hover:before {color: black;}#sk-container-id-1 div.sk-estimator:hover label.sk-toggleable__label-arrow:before {color: black;}#sk-container-id-1 div.sk-toggleable__content {max-height: 0;max-width: 0;overflow: hidden;text-align: left;background-color: #f0f8ff;}#sk-container-id-1 div.sk-toggleable__content pre {margin: 0.2em;color: black;border-radius: 0.25em;background-color: #f0f8ff;}#sk-container-id-1 input.sk-toggleable__control:checked~div.sk-toggleable__content {max-height: 200px;max-width: 100%;overflow: auto;}#sk-container-id-1 input.sk-toggleable__control:checked~label.sk-toggleable__label-arrow:before {content: \"▾\";}#sk-container-id-1 div.sk-estimator input.sk-toggleable__control:checked~label.sk-toggleable__label {background-color: #d4ebff;}#sk-container-id-1 div.sk-label input.sk-toggleable__control:checked~label.sk-toggleable__label {background-color: #d4ebff;}#sk-container-id-1 input.sk-hidden--visually {border: 0;clip: rect(1px 1px 1px 1px);clip: rect(1px, 1px, 1px, 1px);height: 1px;margin: -1px;overflow: hidden;padding: 0;position: absolute;width: 1px;}#sk-container-id-1 div.sk-estimator {font-family: monospace;background-color: #f0f8ff;border: 1px dotted black;border-radius: 0.25em;box-sizing: border-box;margin-bottom: 0.5em;}#sk-container-id-1 div.sk-estimator:hover {background-color: #d4ebff;}#sk-container-id-1 div.sk-parallel-item::after {content: \"\";width: 100%;border-bottom: 1px solid gray;flex-grow: 1;}#sk-container-id-1 div.sk-label:hover label.sk-toggleable__label {background-color: #d4ebff;}#sk-container-id-1 div.sk-serial::before {content: \"\";position: absolute;border-left: 1px solid gray;box-sizing: border-box;top: 0;bottom: 0;left: 50%;z-index: 0;}#sk-container-id-1 div.sk-serial {display: flex;flex-direction: column;align-items: center;background-color: white;padding-right: 0.2em;padding-left: 0.2em;position: relative;}#sk-container-id-1 div.sk-item {position: relative;z-index: 1;}#sk-container-id-1 div.sk-parallel {display: flex;align-items: stretch;justify-content: center;background-color: white;position: relative;}#sk-container-id-1 div.sk-item::before, #sk-container-id-1 div.sk-parallel-item::before {content: \"\";position: absolute;border-left: 1px solid gray;box-sizing: border-box;top: 0;bottom: 0;left: 50%;z-index: -1;}#sk-container-id-1 div.sk-parallel-item {display: flex;flex-direction: column;z-index: 1;position: relative;background-color: white;}#sk-container-id-1 div.sk-parallel-item:first-child::after {align-self: flex-end;width: 50%;}#sk-container-id-1 div.sk-parallel-item:last-child::after {align-self: flex-start;width: 50%;}#sk-container-id-1 div.sk-parallel-item:only-child::after {width: 0;}#sk-container-id-1 div.sk-dashed-wrapped {border: 1px dashed gray;margin: 0 0.4em 0.5em 0.4em;box-sizing: border-box;padding-bottom: 0.4em;background-color: white;}#sk-container-id-1 div.sk-label label {font-family: monospace;font-weight: bold;display: inline-block;line-height: 1.2em;}#sk-container-id-1 div.sk-label-container {text-align: center;}#sk-container-id-1 div.sk-container {/* jupyter's `normalize.less` sets `[hidden] { display: none; }` but bootstrap.min.css set `[hidden] { display: none !important; }` so we also need the `!important` here to be able to override the default hidden behavior on the sphinx rendered scikit-learn.org. See: https://github.com/scikit-learn/scikit-learn/issues/21755 */display: inline-block !important;position: relative;}#sk-container-id-1 div.sk-text-repr-fallback {display: none;}</style><div id=\"sk-container-id-1\" class=\"sk-top-container\"><div class=\"sk-text-repr-fallback\"><pre>MinMaxScaler()</pre><b>In a Jupyter environment, please rerun this cell to show the HTML representation or trust the notebook. <br />On GitHub, the HTML representation is unable to render, please try loading this page with nbviewer.org.</b></div><div class=\"sk-container\" hidden><div class=\"sk-item\"><div class=\"sk-estimator sk-toggleable\"><input class=\"sk-toggleable__control sk-hidden--visually\" id=\"sk-estimator-id-1\" type=\"checkbox\" checked><label for=\"sk-estimator-id-1\" class=\"sk-toggleable__label sk-toggleable__label-arrow\">MinMaxScaler</label><div class=\"sk-toggleable__content\"><pre>MinMaxScaler()</pre></div></div></div></div></div>"
      ],
      "text/plain": [
       "MinMaxScaler()"
      ]
     },
     "execution_count": 14,
     "metadata": {},
     "output_type": "execute_result"
    }
   ],
   "source": [
    "# create a dataframe with USGS and site data for accurate scaling\n",
    "all_data_df = pd.concat([master_noNA, data_noNA])\n",
    "all_data_df = all_data_df.sort_index(axis=1)\n",
    "\n",
    "# First fit scaler just to y data for rescaling predictions\n",
    "scaler_y = MinMaxScaler()\n",
    "scaler_y.fit(np.array(all_data_df[\"o\"]).reshape(-1, 1))\n",
    "\n",
    "# Scale dataset\n",
    "scaler = MinMaxScaler()\n",
    "scaler.fit(all_data_df.values)"
   ]
  },
  {
   "cell_type": "code",
   "execution_count": 15,
   "id": "f61489b4",
   "metadata": {},
   "outputs": [],
   "source": [
    "from utils import preprocessing_functions as ppf\n",
    "data_sc = ppf.data_pipeline(data, 1e-7, scaler)\n",
    "data_sc_noNA = ppf.data_pipeline(data_noNA, 1e-7, scaler)"
   ]
  },
  {
   "cell_type": "code",
   "execution_count": 16,
   "id": "3a64eff9-ec71-4890-8130-13806b770008",
   "metadata": {},
   "outputs": [
    {
     "data": {
      "image/png": "[encoded data removed]",
      "text/plain": [
       "<Figure size 640x480 with 1 Axes>"
      ]
     },
     "metadata": {},
     "output_type": "display_data"
    }
   ],
   "source": [
    "plt.hist(data_sc_noNA['o'], bins=50)\n",
    "plt.title(\"Distribution of DO in Training Data\")\n",
    "plt.xlabel(\"DO (mg/L)\")\n",
    "plt.ylabel(\"Count\")\n",
    "plt.show()"
   ]
  },
  {
   "cell_type": "markdown",
   "id": "a1f6cf7d-4720-44d5-ae50-e605a66b6273",
   "metadata": {},
   "source": [
    "### Scale site data"
   ]
  },
  {
   "cell_type": "code",
   "execution_count": 17,
   "id": "995eac59-b15a-43c6-8527-aa646777e849",
   "metadata": {},
   "outputs": [],
   "source": [
    "site_dfs_sc_noNA = []\n",
    "for df in site_dfs_noNA:\n",
    "    df_sc = ppf.data_pipeline(df, 1e-7, scaler)\n",
    "    site_dfs_sc_noNA.append(df_sc)"
   ]
  },
  {
   "cell_type": "markdown",
   "id": "11cc52f3-1067-4299-a67c-4ae32e787c14",
   "metadata": {},
   "source": [
    "### Testing"
   ]
  },
  {
   "cell_type": "markdown",
   "id": "4b98e77c",
   "metadata": {},
   "source": [
    "#### Hyperparameters"
   ]
  },
  {
   "cell_type": "code",
   "execution_count": 18,
   "id": "5bd21b41",
   "metadata": {},
   "outputs": [],
   "source": [
    "seed = 12\n",
    "split_pct = 0.7\n",
    "window_length = 10\n",
    "hidden_layers = 1\n",
    "hidden_units = 8\n",
    "batch_size = 256\n",
    "n_epochs = 150\n",
    "activation_dense = 'relu'\n",
    "learning_rate = 0.0008\n",
    "dropout = 0.2\n",
    "stop_patience = 15\n"
   ]
  },
  {
   "cell_type": "code",
   "execution_count": 19,
   "id": "7c01e1d0-60a9-4a66-af97-5afeb1940c7b",
   "metadata": {},
   "outputs": [],
   "source": [
    "data_sc_train, data_sc_test, riv_data_site_inds = ppf.train_test_split_evenSites(data_sc_noNA, split_pct)\n",
    "X_train = data_sc_train.drop('o', axis=1)\n",
    "y_train = data_sc_train['o']\n",
    "X_test = data_sc_test.drop('o', axis=1)\n",
    "y_test = data_sc_test['o']"
   ]
  },
  {
   "cell_type": "code",
   "execution_count": 20,
   "id": "14bb70d2",
   "metadata": {},
   "outputs": [
    {
     "name": "stdout",
     "output_type": "stream",
     "text": [
      "960853\n",
      "413169\n"
     ]
    }
   ],
   "source": [
    "# Get training and testing generators\n",
    "train_gen = ppf.data_generator(X_train, y_train, window_length, batch_size)\n",
    "test_gen = ppf.data_generator(X_test, y_test, window_length, batch_size)\n",
    "\n",
    "# Calculate steps per epoch\n",
    "steps_per_epoch = ppf.get_steps_per_epoch(X_train, window_length, batch_size)\n",
    "val_steps = ppf.get_steps_per_epoch(X_test, window_length, batch_size)"
   ]
  },
  {
   "cell_type": "code",
   "execution_count": 21,
   "id": "9c09b94d",
   "metadata": {},
   "outputs": [
    {
     "name": "stdout",
     "output_type": "stream",
     "text": [
      "3753\n",
      "1613\n"
     ]
    }
   ],
   "source": [
    "print(steps_per_epoch)\n",
    "print(val_steps)"
   ]
  },
  {
   "cell_type": "code",
   "execution_count": null,
   "id": "7d30e5a7-7a70-4edd-b8ed-dc0e541b848a",
   "metadata": {},
   "outputs": [],
   "source": [
    "from utils import model_building_training_functions as mbf\n",
    "\n",
    "# Build the model\n",
    "keras.utils.set_random_seed(seed)\n",
    "optimizer = keras.optimizers.Adam(learning_rate=learning_rate)\n",
    "n_features = len(X_train.columns)\n",
    "model = mbf.build_model(hidden_layers, hidden_units, optimizer, window_length, n_features,\n",
    "                    dropout=dropout, lr=learning_rate, custom_loss_fn=None, batch_norm=False)\n",
    "# Uncomment if model has already been trained\n",
    "# model.load_weights(proj_dir + '/model_weights/River_LSTM.weights.h5')"
   ]
  },
  {
   "cell_type": "code",
   "execution_count": 48,
   "id": "47aad09e-ef06-47bd-80ae-5104b37c758c",
   "metadata": {},
   "outputs": [],
   "source": [
    "keras.utils.set_random_seed(0)\n",
    "earlyStopping = EarlyStopping(monitor='val_loss', patience=stop_patience, verbose=1, mode='min')\n",
    "lr_scheduler = tf.keras.callbacks.ReduceLROnPlateau(monitor='val_loss', factor=0.8, patience=5, min_lr=0.0000001, verbose=1)\n",
    "checkpoint_callback = tf.keras.callbacks.ModelCheckpoint(filepath=proj_dir +'/model_weights/River_LSTM.weights.h5', save_best_only=True, save_weights_only=True, monitor='val_loss', mode='min', verbose=0)\n",
    "\n",
    "callbacks = [earlyStopping, lr_scheduler, checkpoint_callback]\n",
    "history = model.fit(train_gen, steps_per_epoch=steps_per_epoch, batch_size=batch_size, \n",
    "                    epochs=n_epochs, verbose=1, validation_data=test_gen, \n",
    "                    validation_steps=val_steps, callbacks=callbacks)"
   ]
  },
  {
   "cell_type": "code",
   "execution_count": null,
   "id": "a31a1d18",
   "metadata": {},
   "outputs": [],
   "source": [
    "plt.figure(figsize=(6,4), dpi=400)\n",
    "plt.plot(history.history['loss'])\n",
    "plt.plot(history.history['val_loss'])\n",
    "plt.title('Pretraining Model Loss')\n",
    "plt.ylabel('Loss (MSE)')\n",
    "plt.xlabel('Epoch')\n",
    "plt.legend(['Train', 'Validation'], loc='upper right')\n",
    "plt.show()"
   ]
  },
  {
   "cell_type": "markdown",
   "id": "f2b83a5b",
   "metadata": {},
   "source": [
    "### Test river LSTM on river data"
   ]
  },
  {
   "cell_type": "code",
   "execution_count": null,
   "id": "fb0136f8",
   "metadata": {},
   "outputs": [],
   "source": [
    "river_preds = model.predict(test_gen, steps=val_steps)\n",
    "def extract_true_values(generator, steps):\n",
    "    y_batches = []\n",
    "\n",
    "    for step, (X_batch, y_batch) in enumerate(generator):\n",
    "        if step >= steps:  # Stop after val_steps steps\n",
    "            break\n",
    "        y_batches.append(y_batch)\n",
    "\n",
    "    # Combine all batches into a single array or tensor\n",
    "    y_true = tf.concat(y_batches, axis=0)\n",
    "    return y_true\n",
    "\n",
    "y_true = extract_true_values(test_gen, val_steps)"
   ]
  },
  {
   "cell_type": "code",
   "execution_count": null,
   "id": "36fc9118",
   "metadata": {},
   "outputs": [],
   "source": [
    "def evaluate_river_predictions(y_true, y_preds, scaler_y):\n",
    "    # Convert to 1-D arrays and inverse tranform\n",
    "    y_true -= 1e-7\n",
    "    y_preds -= 1e-7\n",
    "    \n",
    "    actual = scaler_y.inverse_transform(np.array(y_true).flatten().reshape(-1, 1))\n",
    "    predictions = scaler_y.inverse_transform(np.array(y_preds).flatten().reshape(-1, 1))\n",
    "    \n",
    "    \n",
    "    rmse = math.sqrt(mean_squared_error(actual, predictions))\n",
    "    r2 = r2_score(actual, predictions)\n",
    "    kge = he.evaluator(he.kge, actual, predictions)\n",
    "    bias = he.evaluator(he.pbias, actual, predictions)\n",
    "    performance_metrics = {\"RMSE\": round(rmse, 3),\n",
    "                            'KGE': round(kge[0][0], 3),\n",
    "                            f\"R{chr(0x00B2)}\": round(r2, 3),\n",
    "                            'Bias': round(bias[0], 3)}\n",
    "    return performance_metrics\n",
    "\n",
    "river_model_performance = evaluate_river_predictions(y_true, river_preds, scaler_y)\n",
    "print(river_model_performance)"
   ]
  },
  {
   "cell_type": "markdown",
   "id": "46c39e6d",
   "metadata": {},
   "source": [
    "### Fine-tune model to floodplain data"
   ]
  },
  {
   "cell_type": "code",
   "execution_count": 25,
   "id": "1229b504",
   "metadata": {},
   "outputs": [],
   "source": [
    "seed = 2619\n",
    "window_length = 8\n",
    "batch_size = 4\n",
    "n_epochs = 150\n",
    "learning_rate = 0.00008\n",
    "smoothing_level = 0.8\n",
    "stop_patience = 15\n",
    "dropout = 0.3\n"
   ]
  },
  {
   "cell_type": "code",
   "execution_count": null,
   "id": "31ed8351",
   "metadata": {},
   "outputs": [],
   "source": [
    "# Smooth data\n",
    "site_dfs_smoothed = []\n",
    "for df in site_dfs_noNA:\n",
    "    df_sm = df.copy()\n",
    "    fit = SimpleExpSmoothing(df_sm['o'], initialization_method=\"heuristic\").fit(\n",
    "    smoothing_level=smoothing_level, optimized=False)\n",
    "    df_sm['o'] = fit.fittedvalues\n",
    "    df_sm = df_sm.sort_index(axis=1)\n",
    "    site_dfs_smoothed.append(df_sm)\n",
    "    \n",
    "# Scale smoothed data\n",
    "site_dfs_sc = []\n",
    "for df in site_dfs_smoothed:\n",
    "    df_sc = ppf.data_pipeline(df, 1e-7, scaler)\n",
    "    site_dfs_sc.append(df_sc)\n",
    "    \n",
    "# Split smoothed data into training and testing\n",
    "X_train_list = []\n",
    "y_train_list = []\n",
    "X_test_list = []\n",
    "y_test_list = []\n",
    "\n",
    "try:\n",
    "    print(\"Loading train/test split indices\")\n",
    "    list_of_tuples = []\n",
    "    with open(proj_dir + \"/model_weights/train_test_split_indices.txt\", \"r\") as file:\n",
    "        for line in file:\n",
    "            text = line.strip().split(\", \")\n",
    "            list_of_tuples.append((text[0], int(text[1]), int(text[2])))\n",
    "    sites, start_inds, end_inds = zip(*list_of_tuples)\n",
    "    for i, df in enumerate(site_dfs_sc):\n",
    "        test_df = df.iloc[start_inds[i]:end_inds[i]]\n",
    "        train_df = pd.concat([df.iloc[:start_inds[i]], df.iloc[end_inds[i]:]])\n",
    "        X_train = train_df.drop('o', axis=1)\n",
    "        y_train = train_df['o']\n",
    "        X_test = test_df.drop('o', axis=1)\n",
    "        y_test = test_df['o']\n",
    "        X_train_list.append(X_train)\n",
    "        y_train_list.append(y_train)\n",
    "        X_test_list.append(X_test)\n",
    "        y_test_list.append(y_test)    \n",
    "        \n",
    "except Exception as e:\n",
    "    print(e)\n",
    "    start_inds = []\n",
    "    end_inds = []\n",
    "    for df in site_dfs_sc:\n",
    "        splits = ppf.random_time_split(df, 0.8, 'o')\n",
    "        X_train_list.append(splits[0])\n",
    "        y_train_list.append(splits[1])\n",
    "        X_test_list.append(splits[2])\n",
    "        y_test_list.append(splits[3])\n",
    "        start_inds.append(splits[4])\n",
    "        end_inds.append(splits[5])\n",
    "\n",
    "X_train_master = pd.concat(X_train_list)\n",
    "y_train_master = pd.concat(y_train_list)\n",
    "X_test_master = pd.concat(X_test_list)\n",
    "y_test_master = pd.concat(y_test_list)\n",
    "\n",
    "# Generate training sequences\n",
    "train_gen_FP = ppf.data_generator(X_train_master, y_train_master, window_length, batch_size)\n",
    "test_gen_FP = ppf.data_generator(X_test_master, y_test_master, window_length, batch_size)"
   ]
  },
  {
   "cell_type": "code",
   "execution_count": null,
   "id": "968ff880",
   "metadata": {},
   "outputs": [],
   "source": [
    "print(len(X_train_master))\n",
    "print(len(X_test_master))"
   ]
  },
  {
   "cell_type": "code",
   "execution_count": null,
   "id": "d462ab6e",
   "metadata": {},
   "outputs": [],
   "source": [
    "site_names = ['OC2', 'LF1', 'LF2', 'OC4', 'LF3', 'OC1', 'OC3']\n",
    "train_test_splits = list(zip(site_names, start_inds, end_inds))\n",
    "print(train_test_splits)\n",
    "with open(proj_dir + '/model_weights/train_test_split_indices.txt', 'w') as f:\n",
    "    for site in train_test_splits:\n",
    "        f.write(f\"{site[0]}, {site[1]}, {site[2]}\\n\")"
   ]
  },
  {
   "cell_type": "code",
   "execution_count": null,
   "id": "76d03bcc",
   "metadata": {},
   "outputs": [],
   "source": [
    "steps_per_epoch_FP = ppf.get_steps_per_epoch(X_train_master, window_length, batch_size)\n",
    "val_steps_FP = ppf.get_steps_per_epoch(X_test_master, window_length, batch_size)\n",
    "print(steps_per_epoch_FP)\n",
    "print(val_steps_FP)"
   ]
  },
  {
   "cell_type": "code",
   "execution_count": null,
   "id": "db268c30",
   "metadata": {},
   "outputs": [],
   "source": [
    "print(len(X_train_list[0]))\n",
    "print(len(X_test_list[0]))"
   ]
  },
  {
   "cell_type": "code",
   "execution_count": null,
   "id": "1501a527",
   "metadata": {},
   "outputs": [],
   "source": [
    "keras.utils.set_random_seed(20)\n",
    "optimizer = keras.optimizers.Adam(learning_rate=learning_rate)\n",
    "n_features = len(X_train_master.columns)\n",
    "model_FT = mbf.build_model(hidden_layers, hidden_units, optimizer, window_length, n_features,\n",
    "                    dropout=dropout, lr=learning_rate, custom_loss_fn=None, batch_norm=False)\n",
    "\n",
    "model_FT.load_weights(proj_dir + '/model_weights/River_LSTM.weights.h5')\n",
    "\n",
    "# Uncomment if model has already been trained\n",
    "# model_FT.load_weights(proj_dir+ '/model_weights/TL_LSTM.weights.h5')"
   ]
  },
  {
   "cell_type": "code",
   "execution_count": null,
   "id": "3cff74ae",
   "metadata": {},
   "outputs": [],
   "source": [
    "keras.utils.set_random_seed(0)\n",
    "earlyStopping_FT = EarlyStopping(monitor='val_loss', patience=stop_patience, verbose=1, mode='min')\n",
    "lr_scheduler = tf.keras.callbacks.ReduceLROnPlateau(monitor='val_loss', factor=0.8, patience=5, min_lr=0.0000001, verbose=1)\n",
    "checkpoint_callback_FT = tf.keras.callbacks.ModelCheckpoint(filepath=proj_dir + '/model_weights/TL_LSTM.weights.h5', save_best_only=True, save_weights_only=True, monitor='val_loss', mode='min', verbose=0)\n",
    "\n",
    "callbacks_FT = [earlyStopping_FT, lr_scheduler, checkpoint_callback_FT]\n",
    "history_FT = model_FT.fit(train_gen_FP, steps_per_epoch=steps_per_epoch_FP, batch_size=batch_size, \n",
    "                    epochs=n_epochs, verbose=1, validation_data=test_gen_FP, \n",
    "                    validation_steps=val_steps_FP, callbacks=callbacks_FT)"
   ]
  },
  {
   "cell_type": "code",
   "execution_count": null,
   "id": "a85edb44",
   "metadata": {},
   "outputs": [],
   "source": [
    "plt.figure(figsize=(6,4), dpi=200)\n",
    "plt.plot(history_FT.history['loss'])\n",
    "plt.plot(history_FT.history['val_loss'])\n",
    "plt.title('Fine Tuned Model Loss')\n",
    "plt.ylabel('Loss (MSE)')\n",
    "plt.xlabel('Epoch')\n",
    "plt.legend(['Train', 'Validation'], loc='upper right')\n",
    "plt.show()"
   ]
  },
  {
   "cell_type": "markdown",
   "id": "323135f0",
   "metadata": {},
   "source": [
    "### Make predictions at individual sites"
   ]
  },
  {
   "cell_type": "code",
   "execution_count": 57,
   "id": "0832d071",
   "metadata": {},
   "outputs": [],
   "source": [
    "X_OC2, y_OC2 = ppf.reshape_data(site_dfs_sc[0].drop(['o'], axis=1), site_dfs_sc[0]['o'], window_length)\n",
    "X_LF1, y_LF1 = ppf.reshape_data(site_dfs_sc[1].drop(['o'], axis=1), site_dfs_sc[1]['o'], window_length)\n",
    "X_LF2, y_LF2 = ppf.reshape_data(site_dfs_sc[2].drop(['o'], axis=1), site_dfs_sc[2]['o'], window_length)\n",
    "X_OC4, y_OC4 = ppf.reshape_data(site_dfs_sc[3].drop(['o'], axis=1), site_dfs_sc[3]['o'], window_length)\n",
    "X_LF3, y_LF3 = ppf.reshape_data(site_dfs_sc[4].drop(['o'], axis=1), site_dfs_sc[4]['o'], window_length)\n",
    "X_OC1, y_OC1 = ppf.reshape_data(site_dfs_sc[5].drop(['o'], axis=1), site_dfs_sc[5]['o'], window_length)\n",
    "X_OC3, y_OC3 = ppf.reshape_data(site_dfs_sc[6].drop(['o'], axis=1), site_dfs_sc[6]['o'], window_length)\n",
    "X_master_rs = np.concatenate([X_OC2, X_LF1, X_LF2, X_OC4, X_LF3, X_OC1, X_OC3], axis=0)\n",
    "y_master_rs = np.concatenate([y_OC2, y_LF1, y_LF2, y_OC4, y_LF3, y_OC1, y_OC3])\n"
   ]
  },
  {
   "cell_type": "code",
   "execution_count": 58,
   "id": "3a708245",
   "metadata": {},
   "outputs": [
    {
     "name": "stdout",
     "output_type": "stream",
     "text": [
      "(3755, 7, 35)\n",
      "(3755,)\n"
     ]
    }
   ],
   "source": [
    "print(X_master_rs.shape)\n",
    "print(y_master_rs.shape)"
   ]
  },
  {
   "cell_type": "code",
   "execution_count": 59,
   "id": "2ee46c8d",
   "metadata": {},
   "outputs": [],
   "source": [
    "OC2_start = OC2_noNA.index[start_inds[0]]; OC2_end = OC2_noNA.index[end_inds[0]]\n",
    "LF1_start = LF1_noNA.index[start_inds[1]]; LF1_end = LF1_noNA.index[end_inds[1]]\n",
    "LF2_start = LF2_noNA.index[start_inds[2]]; LF2_end = LF2_noNA.index[end_inds[2]]\n",
    "OC4_start = OC4_noNA.index[start_inds[3]]; OC4_end = OC4_noNA.index[end_inds[3]]\n",
    "LF3_start = LF3_noNA.index[start_inds[4]]; LF3_end = LF3_noNA.index[end_inds[4]]\n",
    "OC1_start = OC1_noNA.index[start_inds[5]]; OC1_end = OC1_noNA.index[end_inds[5]]\n",
    "OC3_start = OC3_noNA.index[start_inds[6]]; OC3_end = OC3_noNA.index[end_inds[6]]"
   ]
  },
  {
   "cell_type": "code",
   "execution_count": null,
   "id": "abd6e2d9",
   "metadata": {},
   "outputs": [],
   "source": [
    "OC2_preds = model_FT.predict(X_OC2, batch_size=batch_size)\n",
    "LF1_preds = model_FT.predict(X_LF1, batch_size=batch_size)\n",
    "LF2_preds = model_FT.predict(X_LF2, batch_size=batch_size)\n",
    "OC4_preds = model_FT.predict(X_OC4, batch_size=batch_size)\n",
    "LF3_preds = model_FT.predict(X_LF3, batch_size=batch_size)\n",
    "OC1_preds = model_FT.predict(X_OC1, batch_size=batch_size)\n",
    "OC3_preds = model_FT.predict(X_OC3, batch_size=batch_size)"
   ]
  },
  {
   "cell_type": "markdown",
   "id": "a98a72e5",
   "metadata": {},
   "source": [
    "### Plot predictions"
   ]
  },
  {
   "cell_type": "code",
   "execution_count": 109,
   "id": "e4345140",
   "metadata": {},
   "outputs": [],
   "source": [
    "\n",
    "def plot_result_sites(y_true, y_preds, test_start, test_end, scaler, site_code, FT=False, train=False, FP=False):\n",
    "    # store dates\n",
    "    dates = y_true.index\n",
    "    \n",
    "    # Convert to 1-D arrays and inverse transform\n",
    "    y_true -= 1e-7\n",
    "    y_preds -= 1e-7\n",
    "    \n",
    "    actual = scaler.inverse_transform(np.array(y_true).flatten().reshape(-1, 1))\n",
    "    predictions = scaler.inverse_transform(np.array(y_preds).flatten().reshape(-1, 1))\n",
    "    \n",
    "    # convert back to pandas series and index by date\n",
    "    actual = pd.Series(actual.flatten(), index=dates, name='Actual')\n",
    "    predictions = pd.Series(predictions.flatten(), index=dates, name='Predictions')\n",
    "    actual = actual.asfreq('D')\n",
    "    predictions = predictions.asfreq('D')\n",
    "    \n",
    "    # Plot predictions\n",
    "    fig, ax1 = plt.subplots(figsize=(15, 6))\n",
    "    plt.rcParams.update({'font.size': 16})\n",
    "    colors = plt.cm.Set2(np.linspace(0, 1, 7))\n",
    "    ax1.set_xlabel('Days')\n",
    "    ax1.set_ylabel('DO (mg/L)')\n",
    "    ax1.plot(actual, label='Actual', color=colors[0])\n",
    "    ax1.plot(predictions, label='Predictions', color=colors[1])\n",
    "    if train:\n",
    "        plt.axvline(x=test_start, color='black', linestyle=\"--\", label=\"Train/Test Split\")\n",
    "        plt.axvline(x=test_end, color='black', linestyle=\"--\")\n",
    "\n",
    "        \n",
    "        actual, predictions = actual.dropna(), predictions.dropna()\n",
    "        \n",
    "        # Performance Metrics (evaluated in testing data)\n",
    "        rmse = math.sqrt(mean_squared_error(actual[test_start:], predictions[test_start:]))\n",
    "        r2 = r2_score(actual[test_start:], predictions[test_start:])\n",
    "        kge = he.evaluator(he.kge, actual[test_start:], predictions[test_start:])\n",
    "        mae = mean_absolute_error(actual[test_start:], predictions[test_start:])\n",
    "        bias = he.evaluator(he.pbias, actual[test_start:], predictions[test_start:])\n",
    "        performance_metrics = {\"RMSE\": round(rmse, 2),\n",
    "                              'MAE': round(mae, 2),\n",
    "                              'KGE': round(kge[0][0], 2),\n",
    "                              f\"R{chr(0x00B2)}\": round(r2, 2),\n",
    "                              'Bias': round(bias[0], 2)}\n",
    "        metrics_text = '\\n'.join([f'{key}: {value}' for key, value in performance_metrics.items()])\n",
    "        fig.text(0.91, 0.62, metrics_text, fontsize=14, verticalalignment='top', bbox=dict(facecolor='white', alpha=0.15))\n",
    "        fig.text(0.91, 0.67, 'Testing Data', fontsize=14, verticalalignment='top')\n",
    "        \n",
    "        rmse_whole = math.sqrt(mean_squared_error(actual, predictions))\n",
    "        r2_whole = r2_score(actual, predictions)\n",
    "        kge_whole = he.evaluator(he.kge, actual, predictions)\n",
    "        mae_whole = mean_absolute_error(actual, predictions)\n",
    "        bias_whole = he.evaluator(he.pbias, actual, predictions)\n",
    "        performance_metrics_whole = {\"RMSE\": round(rmse_whole, 2),\n",
    "                                     'MAE': round(mae_whole, 2),\n",
    "                                     'KGE': round(kge_whole[0][0], 2),\n",
    "                                     f\"R{chr(0x00B2)}\": round(r2_whole, 2),\n",
    "                                     'Bias': round(bias_whole[0], 2)}\n",
    "        metrics_text_whole = '\\n'.join([f'{key}: {value}' for key, value in performance_metrics_whole.items()])\n",
    "        fig.text(0.91, 0.35, metrics_text_whole, fontsize=14, verticalalignment='top', bbox=dict(facecolor='white', alpha=0.15))\n",
    "        fig.text(0.91, 0.4, 'All Data', fontsize=14, verticalalignment='top')\n",
    "        PM_df_allData = pd.DataFrame.from_dict(performance_metrics_whole, 'index')\n",
    "    else:\n",
    "        actual, predictions = actual.dropna(), predictions.dropna()\n",
    "        rmse = math.sqrt(mean_squared_error(actual, predictions))\n",
    "        r2 = r2_score(actual, predictions)\n",
    "        kge = he.evaluator(he.kge, actual, predictions)\n",
    "        mae = mean_absolute_error(actual, predictions)\n",
    "        bias = he.evaluator(he.pbias, actual, predictions)\n",
    "        performance_metrics = {\"RMSE\": round(rmse, 2),\n",
    "                              'MAE': round(mae, 2),\n",
    "                              'KGE': round(kge[0][0], 2),\n",
    "                              f\"R{chr(0x00B2)}\": round(r2, 2),\n",
    "                              'Bias': round(bias[0], 2)}\n",
    "        metrics_text = '\\n'.join([f'{key}: {value}' for key, value in performance_metrics.items()])\n",
    "        fig.text(0.91, 0.7, metrics_text, fontsize=14, verticalalignment='top', bbox=dict(facecolor='white', alpha=0.15))\n",
    "        \n",
    "    fig.legend(loc=\"upper left\", bbox_to_anchor=(0.9, 0.85), fontsize=12)\n",
    "    plt.title(f'{site_code} Actual and Predicted DO Values', pad=10)\n",
    "    PM_df = pd.DataFrame.from_dict(performance_metrics, 'index')\n",
    "    if train:\n",
    "        if FT:\n",
    "            PM_df_allData.to_csv(proj_dir + f'/figures/current/480_gages/FT/{site_code}_model_metrics_FT_allData.csv')\n",
    "        if FP:\n",
    "            PM_df_allData.to_csv(proj_dir + f'/figures/current/480_gages/FP_only/{site_code}_model_metrics_FP_allData.csv')\n",
    "\n",
    "\n",
    "    if FT: \n",
    "        # plt.savefig(proj_dir + f\"/figures/current/480_gages/FT/{site_code}_preds_FT.png\", bbox_inches='tight')\n",
    "        PM_df.to_csv(proj_dir + f'/figures/current/480_gages/FT/{site_code}_model_metrics_FT.csv')\n",
    "    if FP:\n",
    "        # plt.savefig(proj_dir + f\"/figures/current/480_gages/FP_only/{site_code}_preds_FP.png\", bbox_inches='tight')\n",
    "        PM_df.to_csv(proj_dir + f'/figures/current/480_gages/FP_only/{site_code}_model_metrics_FP.csv')\n",
    "    else:\n",
    "        # plt.savefig(proj_dir + f\"/figures/current/480_gages/PT/{site_code}_preds.png\", bbox_inches='tight')\n",
    "        PM_df.to_csv(proj_dir + f'/figures/current/480_gages/PT/{site_code}_model_metrics.csv')"
   ]
  },
  {
   "cell_type": "code",
   "execution_count": null,
   "id": "a9f30e27",
   "metadata": {},
   "outputs": [],
   "source": [
    "OC2_FT_metrics = plot_result_sites(y_OC2, OC2_preds, OC2_start, OC2_end, scaler_y, \"OC2\", FT=True, train=True)\n",
    "LF1_FT_metrics = plot_result_sites(y_LF1, LF1_preds, LF1_start, LF1_end, scaler_y, \"LF1\", FT=True, train=True)\n",
    "LF2_FT_metrics = plot_result_sites(y_LF2, LF2_preds, LF2_start, LF2_end, scaler_y, \"LF2\", FT=True, train=True)\n",
    "OC4_FT_metrics = plot_result_sites(y_OC4, OC4_preds, OC4_start, OC4_end, scaler_y, \"OC4\", FT=True, train=True)\n",
    "LF3_FT_metrics = plot_result_sites(y_LF3, LF3_preds, LF3_start, LF3_end, scaler_y, \"LF3\", FT=True, train=True)\n",
    "OC1_FT_metrics = plot_result_sites(y_OC1, OC1_preds, OC1_start, OC1_end, scaler_y, \"OC1\", FT=True, train=True)\n",
    "OC3_FT_metrics = plot_result_sites(y_OC3, OC3_preds, OC3_start, OC3_end, scaler_y, \"OC3\", FT=True, train=True)"
   ]
  },
  {
   "cell_type": "markdown",
   "id": "cb62239f",
   "metadata": {},
   "source": [
    "#### Train LSTM just on site data"
   ]
  },
  {
   "cell_type": "code",
   "execution_count": null,
   "id": "f58844df",
   "metadata": {},
   "outputs": [],
   "source": [
    "learning_rate = 8e-4\n",
    "keras.utils.set_random_seed(20)\n",
    "optimizer = keras.optimizers.Adam(learning_rate=learning_rate)\n",
    "n_features = len(X_train_master.columns)\n",
    "model_FP_only = mbf.build_model(hidden_layers, hidden_units, optimizer, window_length, n_features,\n",
    "                    dropout=dropout, lr=learning_rate, custom_loss_fn=None, batch_norm=False)\n",
    "# uncomment if already trained\n",
    "# model_FP_only.load_weights(proj_dir + '/model_weights/best/FP_only_MSE.weights.h5')"
   ]
  },
  {
   "cell_type": "code",
   "execution_count": 62,
   "id": "21ecaff2",
   "metadata": {},
   "outputs": [],
   "source": [
    "keras.utils.set_random_seed(0)\n",
    "earlyStopping_FP_only = EarlyStopping(monitor='val_loss', patience=15, verbose=1, mode='min')\n",
    "lr_scheduler = tf.keras.callbacks.ReduceLROnPlateau(monitor='val_loss', factor=0.8, patience=5, min_lr=0.0000001, verbose=1)\n",
    "checkpoint_callback_FP_only = tf.keras.callbacks.ModelCheckpoint(filepath=proj_dir + '/model_weights/FP_LSTM.weights.h5', save_best_only=True, save_weights_only=True, monitor='val_loss', mode='min', verbose=0)\n",
    "\n",
    "\n",
    "callbacks_FP_only = [earlyStopping_FP_only, lr_scheduler, checkpoint_callback_FP_only]\n",
    "history_FP_only = model_FP_only.fit(train_gen_FP, steps_per_epoch=steps_per_epoch_FP, batch_size=batch_size, \n",
    "                    epochs=n_epochs, verbose=1, validation_data=test_gen_FP, validation_steps=val_steps_FP, callbacks=callbacks_FP_only)"
   ]
  },
  {
   "cell_type": "code",
   "execution_count": null,
   "id": "829d65b3",
   "metadata": {},
   "outputs": [],
   "source": [
    "plt.figure(figsize=(6,4), dpi=200)\n",
    "plt.plot(history_FP_only.history['loss'])\n",
    "plt.plot(history_FP_only.history['val_loss'])\n",
    "plt.title('Model Loss \\n Floodplain Data Only')\n",
    "plt.ylabel('Loss (MSE)')\n",
    "plt.xlabel('Epoch')\n",
    "plt.legend(['Train', 'Validation'], loc='upper right')\n",
    "plt.show()"
   ]
  },
  {
   "cell_type": "code",
   "execution_count": null,
   "id": "f1f1f5f4",
   "metadata": {},
   "outputs": [],
   "source": [
    "OC2_preds_FP_only = model_FP_only.predict(X_OC2, batch_size=batch_size)\n",
    "LF1_preds_FP_only = model_FP_only.predict(X_LF1, batch_size=batch_size)\n",
    "LF2_preds_FP_only = model_FP_only.predict(X_LF2, batch_size=batch_size)\n",
    "OC4_preds_FP_only = model_FP_only.predict(X_OC4, batch_size=batch_size)\n",
    "LF3_preds_FP_only = model_FP_only.predict(X_LF3, batch_size=batch_size)\n",
    "OC1_preds_FP_only = model_FP_only.predict(X_OC1, batch_size=batch_size)\n",
    "OC3_preds_FP_only = model_FP_only.predict(X_OC3, batch_size=batch_size)"
   ]
  },
  {
   "cell_type": "code",
   "execution_count": null,
   "id": "14f34a08",
   "metadata": {},
   "outputs": [],
   "source": [
    "OC2_FP_metrics = plot_result_sites(y_OC2, OC2_preds_FP_only, OC2_start, OC2_end, scaler_y, \"OC2\", FT=False, train=True, FP=True)"
   ]
  },
  {
   "cell_type": "code",
   "execution_count": null,
   "id": "f45ac9f9",
   "metadata": {},
   "outputs": [],
   "source": [
    "LF1_FP_metrics = plot_result_sites(y_LF1, LF1_preds_FP_only, LF1_start, LF1_end, scaler_y, \"LF1\", FT=False, train=True, FP=True)"
   ]
  },
  {
   "cell_type": "code",
   "execution_count": null,
   "id": "fb3be7cf",
   "metadata": {},
   "outputs": [],
   "source": [
    "LF2_FP_metrics = plot_result_sites(y_LF2, LF2_preds_FP_only, LF2_start, LF2_end, scaler_y, \"LF2\", FT=False, train=True, FP=True)"
   ]
  },
  {
   "cell_type": "code",
   "execution_count": null,
   "id": "1ea85393",
   "metadata": {},
   "outputs": [],
   "source": [
    "OC4_FP_metrics = plot_result_sites(y_OC4, OC4_preds_FP_only, OC4_start, OC4_end, scaler_y, \"OC4\", FT=False, train=True, FP=True)"
   ]
  },
  {
   "cell_type": "code",
   "execution_count": null,
   "id": "3d71c1bf",
   "metadata": {},
   "outputs": [],
   "source": [
    "LF3_FP_metrics = plot_result_sites(y_LF3, LF3_preds_FP_only, LF3_start, LF3_end, scaler_y, \"LF3\", FT=False, train=True, FP=True)"
   ]
  },
  {
   "cell_type": "code",
   "execution_count": null,
   "id": "e86c8622",
   "metadata": {},
   "outputs": [],
   "source": [
    "OC1_FP_metrics = plot_result_sites(y_OC1, OC1_preds_FP_only, OC1_start, OC1_end, scaler_y, \"OC1\", FT=False, train=True, FP=True)"
   ]
  },
  {
   "cell_type": "code",
   "execution_count": null,
   "id": "2142f83c",
   "metadata": {},
   "outputs": [],
   "source": [
    "OC3_FP_metrics = plot_result_sites(y_OC3, OC3_preds_FP_only, OC3_start, OC3_end, scaler_y, \"OC3\", FT=False, train=True, FP=True)"
   ]
  },
  {
   "cell_type": "markdown",
   "id": "a5e7f05b",
   "metadata": {},
   "source": [
    "#### Pretrained model predictions"
   ]
  },
  {
   "cell_type": "code",
   "execution_count": null,
   "id": "088f1995",
   "metadata": {},
   "outputs": [],
   "source": [
    "OC2_preds_PT = model.predict(X_OC2, batch_size=batch_size)\n",
    "LF1_preds_PT = model.predict(X_LF1, batch_size=batch_size)\n",
    "LF2_preds_PT = model.predict(X_LF2, batch_size=batch_size)\n",
    "OC4_preds_PT = model.predict(X_OC4, batch_size=batch_size)\n",
    "LF3_preds_PT = model.predict(X_LF3, batch_size=batch_size)\n",
    "OC1_preds_PT = model.predict(X_OC1, batch_size=batch_size)\n",
    "OC3_preds_PT = model.predict(X_OC3, batch_size=batch_size)"
   ]
  },
  {
   "cell_type": "code",
   "execution_count": null,
   "id": "0b8d749e",
   "metadata": {},
   "outputs": [],
   "source": [
    "OC2_PT_metrics = plot_result_sites(y_OC2, OC2_preds_PT, OC2_start, OC2_end, scaler_y, \"OC2\", FT=False, train=False)\n",
    "LF3_PT_metrics = plot_result_sites(y_LF1, LF1_preds_PT, LF1_start, LF1_end, scaler_y, \"LF1\", FT=False, train=False)\n",
    "LF2_PT_metrics = plot_result_sites(y_LF2, LF2_preds_PT, LF2_start, LF2_end, scaler_y, \"LF2\", FT=False, train=False)\n",
    "OC4_PT_metrics = plot_result_sites(y_OC4, OC4_preds_PT, OC4_start, OC4_end, scaler_y, \"OC4\", FT=False, train=False)\n",
    "LF3_PT_metrics = plot_result_sites(y_LF3, LF3_preds_PT, LF3_start, LF3_end, scaler_y, \"LF3\", FT=False, train=False)\n",
    "OC1_PT_metrics = plot_result_sites(y_OC1, OC1_preds_PT, OC1_start, OC1_end, scaler_y, \"OC1\", FT=False, train=False)\n",
    "OC3_PT_metrics = plot_result_sites(y_OC3, OC3_preds_PT, OC3_start, OC3_end, scaler_y, \"OC3\", FT=False, train=False)"
   ]
  },
  {
   "cell_type": "markdown",
   "id": "1f28e99d",
   "metadata": {},
   "source": [
    "### Save predictions into CSVs for statistical analysis"
   ]
  },
  {
   "cell_type": "code",
   "execution_count": null,
   "id": "413a6877",
   "metadata": {},
   "outputs": [],
   "source": [
    "def get_prediction_dataframe(y, preds_PT, preds_FT, preds_FP, site):\n",
    "    dates = y.index\n",
    "\n",
    "    y -= 1e-7\n",
    "    preds_PT -= 1e-7\n",
    "    preds_FT -= 1e-7\n",
    "    preds_FP -= 1e-7\n",
    "    \n",
    "    y_series = scaler_y.inverse_transform(np.array(y).flatten().reshape(-1, 1))\n",
    "    preds_PT_series = scaler_y.inverse_transform(np.array(preds_PT).flatten().reshape(-1, 1))\n",
    "    preds_FT_series = scaler_y.inverse_transform(np.array(preds_FT).flatten().reshape(-1, 1))\n",
    "    preds_FP_series = scaler_y.inverse_transform(np.array(preds_FP).flatten().reshape(-1, 1))\n",
    "\n",
    "    y_series = pd.Series(y_series.flatten(), index=dates, name='DO')\n",
    "    preds_PT_series = pd.Series(preds_PT_series.flatten(), index=dates, name='DO_preds_PT')\n",
    "    preds_FT_series = pd.Series(preds_FT_series.flatten(), index=dates, name='DO_preds_FT')\n",
    "    preds_FP_series = pd.Series(preds_FP_series.flatten(), index=dates, name='DO_preds_FP')\n",
    "\n",
    "\n",
    "    pred_list = [y_series, preds_PT_series, preds_FT_series, preds_FP_series]\n",
    "    pred_df = pd.DataFrame(pred_list).T\n",
    "    print(pred_df.head())\n",
    "    \n",
    "    pred_df.to_csv(proj_dir + f'/model_results/{site}_model_predictions.csv')\n",
    "    \n",
    "    return pred_df\n",
    "\n",
    "OC2_pred_df = get_prediction_dataframe(y_OC2, OC2_preds_PT, OC2_preds, OC2_preds_FP_only, \"OC2\")\n",
    "LF1_pred_df = get_prediction_dataframe(y_LF1, LF1_preds_PT, LF1_preds, LF1_preds_FP_only, \"LF1\")\n",
    "LF2_pred_df = get_prediction_dataframe(y_LF2, LF2_preds_PT, LF2_preds, LF2_preds_FP_only, \"LF2\")\n",
    "OC4_pred_df = get_prediction_dataframe(y_OC4, OC4_preds_PT, OC4_preds, OC4_preds_FP_only, 'OC4')\n",
    "LF3_pred_df = get_prediction_dataframe(y_LF3, LF3_preds_PT, LF3_preds, LF3_preds_FP_only, 'LF3')\n",
    "OC1_pred_df = get_prediction_dataframe(y_OC1, OC1_preds_PT, OC1_preds, OC1_preds_FP_only, 'OC1')\n",
    "OC3_pred_df = get_prediction_dataframe(y_OC3, OC3_preds_PT, OC3_preds, OC3_preds_FP_only, 'OC3')"
   ]
  },
  {
   "cell_type": "code",
   "execution_count": 72,
   "id": "cd7eb7ca",
   "metadata": {},
   "outputs": [],
   "source": [
    "def plot_all_result_sites(y_true, y_preds_PT, y_preds_FT, y_preds_FP, test_start, test_end, scaler, site_code, train=False):\n",
    "    # store dates\n",
    "    dates = y_true.index\n",
    "    \n",
    "    # Convert to 1-D arrays and inverse tranform\n",
    "    y_true -= 1e-7\n",
    "    y_preds_PT -= 1e-7\n",
    "    y_preds_FT -= 1e-7\n",
    "    y_preds_FP -= 1e-7\n",
    "    \n",
    "    actual = scaler.inverse_transform(np.array(y_true).flatten().reshape(-1, 1))\n",
    "    predictions_PT = scaler.inverse_transform(np.array(y_preds_PT).flatten().reshape(-1, 1))\n",
    "    predictions_FT = scaler.inverse_transform(np.array(y_preds_FT).flatten().reshape(-1, 1))\n",
    "    predictions_FP = scaler.inverse_transform(np.array(y_preds_FP).flatten().reshape(-1, 1))\n",
    "    \n",
    "    # convert back to pandas series and index by date\n",
    "    actual = pd.Series(actual.flatten(), index=dates, name='Actual')\n",
    "    predictions_PT = pd.Series(predictions_PT.flatten(), index=dates, name='River LSTM Predictions')\n",
    "    predictions_FT = pd.Series(predictions_FT.flatten(), index=dates, name='TL LSTM Predictions')\n",
    "    predictions_FP = pd.Series(predictions_FP.flatten(), index=dates, name='Floodplain LSTM Predictions')\n",
    "    actual = actual.asfreq('D')\n",
    "    predictions_PT = predictions_PT.asfreq('D')\n",
    "    predictions_FT = predictions_FT.asfreq('D')\n",
    "    predictions_FP = predictions_FP.asfreq('D')\n",
    "    \n",
    "    # Plot predictions\n",
    "    fig, ax1 = plt.subplots(figsize=(15, 6))\n",
    "    plt.rcParams.update({'font.size': 16})\n",
    "    colors = plt.cm.Set2(np.linspace(0, 1, 7))\n",
    "    ax1.set_xlabel('Date')\n",
    "    ax1.set_ylabel('DO (mg/L)')\n",
    "    ax1.plot(actual, label='Actual', color=colors[0])\n",
    "    ax1.plot(predictions_PT, label='River LSTM Predictions', color=colors[2])\n",
    "    ax1.plot(predictions_FP, label='Floodplain LSTM Predictions', color=colors[4])\n",
    "    ax1.plot(predictions_FT, label='TL LSTM Predictions', color=colors[1])\n",
    "    if train:\n",
    "        plt.axvline(x=test_start, color='black', linestyle=\"--\", label=\"Train/Test Split\")\n",
    "        plt.axvline(x=test_end, color='black', linestyle=\"--\")\n",
    "\n",
    "    fig.legend(loc=\"upper left\", bbox_to_anchor=(0.9, 0.85), fontsize=12)\n",
    "    plt.title(f'{site_code} Actual and Predicted DO Values', pad=10)\n",
    "    plt.show()\n"
   ]
  },
  {
   "cell_type": "code",
   "execution_count": null,
   "id": "88e71efb",
   "metadata": {},
   "outputs": [],
   "source": [
    "plot_all_result_sites(y_OC2, OC2_preds_PT, OC2_preds, OC2_preds_FP_only, OC2_start, OC2_end, scaler_y, \"OC2\", train=True)\n",
    "plot_all_result_sites(y_LF1, LF1_preds_PT, LF1_preds, LF1_preds_FP_only, LF1_start, LF1_end, scaler_y, \"LF1\", train=True)\n",
    "plot_all_result_sites(y_LF2, LF2_preds_PT, LF2_preds, LF2_preds_FP_only, LF2_start, LF2_end, scaler_y, \"LF2\", train=True)\n",
    "plot_all_result_sites(y_OC4, OC4_preds_PT, OC4_preds, OC4_preds_FP_only, OC4_start, OC4_end, scaler_y, \"OC4\", train=True)\n",
    "plot_all_result_sites(y_LF3, LF3_preds_PT, LF3_preds, LF3_preds_FP_only, LF3_start, LF3_end, scaler_y, \"LF3\", train=True)\n",
    "plot_all_result_sites(y_OC1, OC1_preds_PT, OC1_preds, OC1_preds_FP_only, OC1_start, OC1_end, scaler_y, \"OC1\", train=True)\n",
    "plot_all_result_sites(y_OC3, OC3_preds_PT, OC3_preds, OC3_preds_FP_only, OC3_start, OC3_end, scaler_y, \"OC3\", train=True)"
   ]
  }
 ],
 "metadata": {
  "kernelspec": {
   "display_name": "DataScience",
   "language": "python",
   "name": "python3"
  },
  "language_info": {
   "codemirror_mode": {
    "name": "ipython",
    "version": 3
   },
   "file_extension": ".py",
   "mimetype": "text/x-python",
   "name": "python",
   "nbconvert_exporter": "python",
   "pygments_lexer": "ipython3",
   "version": "3.10.13"
  }
 },
 "nbformat": 4,
 "nbformat_minor": 5
}
